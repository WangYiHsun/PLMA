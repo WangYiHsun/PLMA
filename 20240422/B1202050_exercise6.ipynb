{
  "nbformat": 4,
  "nbformat_minor": 0,
  "metadata": {
    "colab": {
      "provenance": []
    },
    "kernelspec": {
      "name": "python3",
      "display_name": "Python 3"
    },
    "language_info": {
      "name": "python"
    }
  },
  "cells": [
    {
      "cell_type": "code",
      "execution_count": 11,
      "metadata": {
        "colab": {
          "base_uri": "https://localhost:8080/"
        },
        "id": "xTVz8gUmpvJ3",
        "outputId": "af446a1b-b0b1-4a0d-87f0-0473816b040b"
      },
      "outputs": [
        {
          "output_type": "stream",
          "name": "stdout",
          "text": [
            "1x1=1  2x1=2  3x1=3  4x1=4  5x1=5  6x1=6  7x1=7  8x1=8  9x1=9  \n",
            "1x2=2  2x2=4  3x2=6  4x2=8  5x2=10 6x2=12 7x2=14 8x2=16 9x2=18 \n",
            "1x3=3  2x3=6  3x3=9  4x3=12 5x3=15 6x3=18 7x3=21 8x3=24 9x3=27 \n",
            "1x4=4  2x4=8  3x4=12 4x4=16 5x4=20 6x4=24 7x4=28 8x4=32 9x4=36 \n",
            "1x5=5  2x5=10 3x5=15 4x5=20 5x5=25 6x5=30 7x5=35 8x5=40 9x5=45 \n",
            "1x6=6  2x6=12 3x6=18 4x6=24 5x6=30 6x6=36 7x6=42 8x6=48 9x6=54 \n",
            "1x7=7  2x7=14 3x7=21 4x7=28 5x7=35 6x7=42 7x7=49 8x7=56 9x7=63 \n",
            "1x8=8  2x8=16 3x8=24 4x8=32 5x8=40 6x8=48 7x8=56 8x8=64 9x8=72 \n",
            "1x9=9  2x9=18 3x9=27 4x9=36 5x9=45 6x9=54 7x9=63 8x9=72 9x9=81 \n"
          ]
        }
      ],
      "source": [
        "b=1\n",
        "while b<=9:\n",
        "  a=1\n",
        "  while a<=9:\n",
        "    ans=a*b\n",
        "    print(f'{a}x{b}={ans:<2d}', end=' ')\n",
        "    a+=1\n",
        "  b+=1\n",
        "  print()"
      ]
    },
    {
      "cell_type": "code",
      "source": [
        "import random\n",
        "a=random.sample(range(1,10),4)\n",
        "print(f'ans:{a}')\n",
        "count=0\n",
        "flag=True\n",
        "while flag==True:\n",
        "  A=0\n",
        "  B=0\n",
        "  c=input('請輸入四個數字（不重複）')\n",
        "  if len(c)>len(a):\n",
        "    c=input('輸入數字過多，請輸入四個數字（不重複）')\n",
        "  count=count+1\n",
        "  for i in c:\n",
        "    i=int(i)\n",
        "    if i in a:\n",
        "      i=str(i)\n",
        "      if int(i)==int(a[c.index(i)]):\n",
        "        A=A+1\n",
        "      else:\n",
        "        B=B+1\n",
        "  if A==4:\n",
        "    flag=False\n",
        "    print(f'{c}:{A}A{B}B')\n",
        "    print(f'答對了！總共猜{count}次')\n",
        "  else:\n",
        "    print(f'{c}:{A}A{B}B')\n",
        "\n",
        "\n",
        "\n",
        "\n",
        "\n"
      ],
      "metadata": {
        "colab": {
          "base_uri": "https://localhost:8080/"
        },
        "id": "V2mLI3GSr5Fg",
        "outputId": "8eed4b1a-c59d-4954-ea25-b50f8789de3c"
      },
      "execution_count": 42,
      "outputs": [
        {
          "output_type": "stream",
          "name": "stdout",
          "text": [
            "ans:[8, 4, 6, 9]\n",
            "請輸入四個數字（不重複）12345\n",
            "輸入數字過多，請輸入四個數字（不重複）8123\n",
            "8123:1A0B\n",
            "請輸入四個數字（不重複）8234\n",
            "8234:1A1B\n",
            "請輸入四個數字（不重複）8492\n",
            "8492:2A1B\n",
            "請輸入四個數字（不重複）8439\n",
            "8439:3A0B\n",
            "請輸入四個數字（不重複）8469\n",
            "8469:4A0B\n",
            "答對了！總共猜5次\n"
          ]
        }
      ]
    },
    {
      "cell_type": "markdown",
      "source": [],
      "metadata": {
        "id": "IXW8s0g-rwDq"
      }
    }
  ]
}