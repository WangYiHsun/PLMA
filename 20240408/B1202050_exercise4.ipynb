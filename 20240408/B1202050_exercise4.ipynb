{
  "nbformat": 4,
  "nbformat_minor": 0,
  "metadata": {
    "colab": {
      "provenance": []
    },
    "kernelspec": {
      "name": "python3",
      "display_name": "Python 3"
    },
    "language_info": {
      "name": "python"
    }
  },
  "cells": [
    {
      "cell_type": "code",
      "execution_count": 19,
      "metadata": {
        "id": "rr9nuZ3BiIKX",
        "colab": {
          "base_uri": "https://localhost:8080/"
        },
        "outputId": "d3127871-5996-4ca0-a2ae-ec3c9c75409c"
      },
      "outputs": [
        {
          "output_type": "stream",
          "name": "stdout",
          "text": [
            "幾公分170\n",
            "幾公斤66.47\n",
            "23.000000000000004\n",
            "適中\n"
          ]
        }
      ],
      "source": [
        "height=float(input(\"幾公分\"))\n",
        "weight=float(input(\"幾公斤\"))\n",
        "height/=100\n",
        "bmi=weight/(height**2)\n",
        "print(bmi)\n",
        "if bmi<18.5:\n",
        "  print('過輕')\n",
        "elif 18.5<=bmi<24:\n",
        "  print('適中')\n",
        "elif 24<=bmi<27:\n",
        "  print('過重')\n",
        "else:\n",
        "  print('肥胖')"
      ]
    },
    {
      "cell_type": "code",
      "source": [
        "a=float(input('請輸入第一個數字'))\n",
        "c=input('請輸入運算符號')\n",
        "b=float(input('請輸入第二個數字'))\n",
        "if c=='+':\n",
        "  print(a+b)\n",
        "if c=='-':\n",
        "  print(a-b)\n",
        "if c=='*':\n",
        "  print(a*b)\n",
        "if c=='/':\n",
        "  print(a/b)\n"
      ],
      "metadata": {
        "colab": {
          "base_uri": "https://localhost:8080/"
        },
        "id": "BIiNuvXmniRL",
        "outputId": "c91b5e90-ea1e-4cdf-ac1e-d7be3de3c426"
      },
      "execution_count": 18,
      "outputs": [
        {
          "output_type": "stream",
          "name": "stdout",
          "text": [
            "請輸入第一個數字2\n",
            "請輸入運算符號+\n",
            "請輸入第二個數字3\n",
            "5.0\n"
          ]
        }
      ]
    }
  ]
}