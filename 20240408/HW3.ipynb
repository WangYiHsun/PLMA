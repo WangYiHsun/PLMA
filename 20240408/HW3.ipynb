{
  "nbformat": 4,
  "nbformat_minor": 0,
  "metadata": {
    "colab": {
      "provenance": []
    },
    "kernelspec": {
      "name": "python3",
      "display_name": "Python 3"
    },
    "language_info": {
      "name": "python"
    }
  },
  "cells": [
    {
      "cell_type": "code",
      "execution_count": 5,
      "metadata": {
        "colab": {
          "base_uri": "https://localhost:8080/"
        },
        "id": "dY_ojz3Xr2__",
        "outputId": "ce3687af-1228-41a8-f755-98917dd367e5"
      },
      "outputs": [
        {
          "output_type": "stream",
          "name": "stdout",
          "text": [
            "輸入年份2025\n",
            "2025.0年是平年\n"
          ]
        }
      ],
      "source": [
        "a=float(input('輸入年份'))\n",
        "if a<=1582:\n",
        "  if a%4==0:\n",
        "    print(f'{a}年是閏年')\n",
        "  else:\n",
        "    print(f'{a}年是平年')\n",
        "if a>1582:\n",
        "  if a%400==0:\n",
        "    print(f'{a}年是閏年')\n",
        "  elif a%100==0:\n",
        "    print(f'{a}年是平年')\n",
        "  elif a%4==0:\n",
        "    print(f'{a}年是閏年')\n",
        "  else:\n",
        "    print(f'{a}年是平年')"
      ]
    }
  ]
}