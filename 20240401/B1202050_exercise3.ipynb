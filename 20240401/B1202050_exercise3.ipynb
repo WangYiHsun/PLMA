{
  "nbformat": 4,
  "nbformat_minor": 0,
  "metadata": {
    "colab": {
      "provenance": []
    },
    "kernelspec": {
      "name": "python3",
      "display_name": "Python 3"
    },
    "language_info": {
      "name": "python"
    }
  },
  "cells": [
    {
      "cell_type": "code",
      "execution_count": 15,
      "metadata": {
        "colab": {
          "base_uri": "https://localhost:8080/"
        },
        "id": "PtI2GuQaeO8h",
        "outputId": "5894c3cb-6f3d-4504-b2ef-b38c1205159d"
      },
      "outputs": [
        {
          "output_type": "stream",
          "name": "stdout",
          "text": [
            "88.33333333333333\n",
            "{'姓名': '賴宏瑋', '性別': '男', '學號': 'M1129020'}\n",
            "95.0\n",
            "{'姓名': '許珈綺', '性別': '女', '學號': 'Ｍ1229001'}\n"
          ]
        }
      ],
      "source": [
        "a={'姓名':'賴宏瑋','性別':'男','作業分數':[95,100,90]}\n",
        "b={'學號':'M1129020'}\n",
        "c={**a,**b}\n",
        "d=c.copy()\n",
        "c['作業分數']=[95,80,90]\n",
        "d['姓名']='許珈綺'\n",
        "d['性別']='女'\n",
        "d['學號']='Ｍ1229001'\n",
        "e=c.pop('作業分數')\n",
        "q=e.pop(0)\n",
        "w=e.pop(0)\n",
        "e=e.pop(0)\n",
        "ave1=(q+w+e)/3\n",
        "print(ave1)\n",
        "print(c)\n",
        "s=d.pop('作業分數')\n",
        "r=s.pop(0)\n",
        "t=s.pop(0)\n",
        "y=s.pop(0)\n",
        "ave2=(r+t+y)/3\n",
        "print(ave2)\n",
        "print(d)"
      ]
    },
    {
      "cell_type": "code",
      "source": [
        "a=[100,50,45,60,90,95,80,50]\n",
        "a.insert(0,88)\n",
        "a[2:5]=[70,50]\n",
        "a.remove(50)\n",
        "b=a.pop(0)\n",
        "c=a.pop(5)\n",
        "d=(b+c)\n",
        "print(d)\n"
      ],
      "metadata": {
        "colab": {
          "base_uri": "https://localhost:8080/"
        },
        "id": "cGnlXPfVfBn8",
        "outputId": "6823a832-a57b-4ffb-d91d-f95d89b50479"
      },
      "execution_count": 17,
      "outputs": [
        {
          "output_type": "stream",
          "name": "stdout",
          "text": [
            "138\n"
          ]
        }
      ]
    },
    {
      "cell_type": "code",
      "source": [
        "A=347//3\n",
        "B=347%3\n",
        "print(A)\n",
        "print(B)\n",
        "print(A**B)\n"
      ],
      "metadata": {
        "colab": {
          "base_uri": "https://localhost:8080/"
        },
        "id": "Oit5C0ypmdWO",
        "outputId": "fac96e05-2a37-4d22-b577-1398a475b5b3"
      },
      "execution_count": 18,
      "outputs": [
        {
          "output_type": "stream",
          "name": "stdout",
          "text": [
            "115\n",
            "2\n",
            "13225\n"
          ]
        }
      ]
    }
  ]
}