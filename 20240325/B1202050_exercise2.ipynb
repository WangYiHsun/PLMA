{
  "nbformat": 4,
  "nbformat_minor": 0,
  "metadata": {
    "colab": {
      "provenance": []
    },
    "kernelspec": {
      "name": "python3",
      "display_name": "Python 3"
    },
    "language_info": {
      "name": "python"
    }
  },
  "cells": [
    {
      "cell_type": "code",
      "execution_count": 22,
      "metadata": {
        "colab": {
          "base_uri": "https://localhost:8080/"
        },
        "id": "ht_alm8neygN",
        "outputId": "b6cc7a43-fde6-4b9a-e8af-f2084fa464a5"
      },
      "outputs": [
        {
          "output_type": "stream",
          "name": "stdout",
          "text": [
            "{'姓名': '賴宏瑋', '性別': '男', '作業分數': [100, 100, 90], '學號': 'M1129020'}\n",
            "96.66666666666667\n"
          ]
        }
      ],
      "source": [
        "a= {'姓名':'賴宏瑋','性別':'男','作業分數':[80,95,100,90]}\n",
        "a['學號']='M1129020'\n",
        "a['作業分數']=[80,100,100,90]\n",
        "a['作業分數'].pop(0)\n",
        "print(a)\n",
        "b=a.get('作業分數')\n",
        "c=b.pop(0)\n",
        "d=b.pop(0)\n",
        "e=b.pop(0)\n",
        "ave=(c+d+e)/3\n",
        "print(ave)"
      ]
    }
  ]
}