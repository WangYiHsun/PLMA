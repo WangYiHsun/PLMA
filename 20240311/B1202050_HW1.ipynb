{
  "nbformat": 4,
  "nbformat_minor": 0,
  "metadata": {
    "colab": {
      "provenance": []
    },
    "kernelspec": {
      "name": "python3",
      "display_name": "Python 3"
    },
    "language_info": {
      "name": "python"
    }
  },
  "cells": [
    {
      "cell_type": "code",
      "execution_count": null,
      "metadata": {
        "colab": {
          "base_uri": "https://localhost:8080/"
        },
        "id": "98MbT9H9nW_N",
        "outputId": "28c9a616-2700-4cf8-8833-4379851cdb79"
      },
      "outputs": [
        {
          "output_type": "stream",
          "name": "stdout",
          "text": [
            "I am a student\n"
          ]
        }
      ],
      "source": [
        "a='I am a student'\n",
        "print (a)\n"
      ]
    },
    {
      "cell_type": "code",
      "source": [
        "x1=float(input(\"x1=\"))\n",
        "y1=float(input(\"y1=\"))\n",
        "x2=float(input(\"x2=\"))\n",
        "y2=float(input(\"y2=\"))\n",
        "dx=x2-x1\n",
        "dy=y2-y1\n",
        "distance=(dx**2+dy**2)**0.5\n",
        "print (distance)"
      ],
      "metadata": {
        "colab": {
          "base_uri": "https://localhost:8080/"
        },
        "id": "1gkP61eQocAv",
        "outputId": "044e6013-d44f-47ba-84e7-ba45a823ff32"
      },
      "execution_count": null,
      "outputs": [
        {
          "output_type": "stream",
          "name": "stdout",
          "text": [
            "x1=3\n",
            "x2=2\n",
            "y1=1\n",
            "y2=5\n",
            "4.123105625617661\n"
          ]
        }
      ]
    },
    {
      "cell_type": "code",
      "source": [
        "height=float(input(\"幾公分\"))\n",
        "weight=float(input(\"幾公斤\"))\n",
        "height/=100\n",
        "bmi=weight/(height**2)\n",
        "print(bmi)"
      ],
      "metadata": {
        "colab": {
          "base_uri": "https://localhost:8080/"
        },
        "id": "Wdk_9u6Dqi47",
        "outputId": "678a438a-bca1-4ceb-de37-18b6b151ff68"
      },
      "execution_count": null,
      "outputs": [
        {
          "output_type": "stream",
          "name": "stdout",
          "text": [
            "幾公分170\n",
            "幾公斤60\n",
            "20.761245674740486\n"
          ]
        }
      ]
    }
  ]
}